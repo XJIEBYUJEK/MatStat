{
 "cells": [
  {
   "cell_type": "code",
   "execution_count": 9,
   "metadata": {},
   "outputs": [],
   "source": [
    "import numpy as np\n",
    "import matplotlib.pyplot as plt\n",
    "from statsmodels.distributions.empirical_distribution import ECDF\n",
    "from scipy.stats import norm, binom\n",
    "np.set_printoptions(precision=3)"
   ]
  },
  {
   "cell_type": "markdown",
   "metadata": {},
   "source": [
    "# Домашнее задание 3. Оценки."
   ]
  },
  {
   "cell_type": "markdown",
   "metadata": {},
   "source": [
    "### Семенов Игорь, СКБ 172"
   ]
  },
  {
   "cell_type": "markdown",
   "metadata": {},
   "source": [
    "## 3.1 Нахождение выборочного среднего и выборочной дисперсии"
   ]
  },
  {
   "cell_type": "code",
   "execution_count": 10,
   "metadata": {},
   "outputs": [],
   "source": [
    "# Сгенирируем выборки из ДЗ 2\n",
    "size = {\n",
    "    0: 5,\n",
    "    1: 10,\n",
    "    2: 100,\n",
    "    3: 1000,\n",
    "    4: 100000\n",
    "}\n",
    "normRandom = []\n",
    "binRandom = []\n",
    "for i in range(5):\n",
    "    binRandom.append([])\n",
    "    normRandom.append([])\n",
    "    for _ in range(5):\n",
    "        binRandom[i].append(np.random.binomial(10, 0.5, size[i]))\n",
    "        normRandom[i].append(np.random.normal(2, 2, size[i]))\n",
    "        "
   ]
  },
  {
   "cell_type": "markdown",
   "metadata": {},
   "source": [
    "Интересующую нас выборку можно вызвать командой $\\texttt{binRandom[i][j]}$ или $\\texttt{normRandom[i][j]}$, где $i,j \\in [0;4]$, $i$ — размер выборки, $j$ — номер выборки $i$-го размера"
   ]
  },
  {
   "cell_type": "markdown",
   "metadata": {},
   "source": [
    "### 3.1.1 Выборочное среднее значение "
   ]
  },
  {
   "cell_type": "markdown",
   "metadata": {},
   "source": [
    "Пусть $X_{1}, \\dots, X_{n}$ — выборка из распределения вероятности. Тогда её выборочным средним называется случайная величина $$\n",
    "\\bar{X}=\\frac{1}{n} \\sum_{i=1}^{n} X_{i}\n",
    "$$\n",
    "Выборочное среднее -  это оценка теоретического среднего распределения, основанная на выборке из него.\n"
   ]
  },
  {
   "cell_type": "markdown",
   "metadata": {},
   "source": [
    "Свойства:\n",
    "- Выборочное среднее — несмещенная оценка теоретического среднего:$\\mathbb{E} \\left[{\\bar {X}}\\right]=\\mathbb{E} [X_{i}],\\quad$ $i=1,\\ldots ,n$\n",
    "- Выборочное среднее — сильно состоятельная оценка теоретического среднего:$ {\\bar {X}}\\to \\mathbb {E} [X_{i}]$ почти наверное при $ n\\to \\infty$ .\n",
    "- Выборочное среднее из нормальной выборки — эффективная оценка её среднего."
   ]
  },
  {
   "cell_type": "markdown",
   "metadata": {},
   "source": [
    "### 3.1.2 Выборочная дисперсия"
   ]
  },
  {
   "cell_type": "markdown",
   "metadata": {},
   "source": [
    "Пусть $X_{1},\\ldots ,X_{n},\\ldots$  — выборка из распределения вероятности. Тогда выборочная дисперсия — это случайная величина\n",
    "$$\n",
    "S_{n}^{2}=\\frac{1}{n} \\sum_{i=1}^{n}\\left(X_{i}-\\bar{X}\\right)^{2}\n",
    "$$\n",
    "Выборочная дисперсия - это оценка теоретической дисперсии распределения, рассчитанная на основе данных выборки. "
   ]
  },
  {
   "cell_type": "markdown",
   "metadata": {},
   "source": [
    "### 3.1.3 Поиск выборочных среднего значения и дисперсии"
   ]
  },
  {
   "cell_type": "markdown",
   "metadata": {},
   "source": [
    "#### 3.1.3.1 Биномиальное распределение $Bi(10,\\frac{1}{2})$"
   ]
  },
  {
   "cell_type": "code",
   "execution_count": 17,
   "metadata": {
    "scrolled": true
   },
   "outputs": [
    {
     "name": "stdout",
     "output_type": "stream",
     "text": [
      "Выборочные средние значения:\n",
      " [[5.2   4.6   5.6   6.6   5.2  ]\n",
      " [5.2   4.1   4.5   4.4   4.4  ]\n",
      " [4.94  5.04  5.08  5.37  5.16 ]\n",
      " [5.032 5.013 5.002 4.976 5.034]\n",
      " [4.995 5.001 5.004 5.003 4.999]]\n",
      "Математическое ожидание: np = 5.0 \n",
      "\n",
      "Выборочные дисперсии\n",
      " [[2.16  1.44  1.44  1.04  0.16 ]\n",
      " [2.56  2.09  1.45  3.44  1.84 ]\n",
      " [2.756 2.378 2.314 2.213 2.514]\n",
      " [2.553 2.449 2.448 2.395 2.525]\n",
      " [2.509 2.5   2.502 2.502 2.486]]\n",
      "Дисперсия: np(p-1) = 2.5\n"
     ]
    }
   ],
   "source": [
    "binAver = np.zeros((5,5))\n",
    "binVar = np.zeros((5,5))\n",
    "for i in range(5):\n",
    "    for j in range(5):\n",
    "        binAver[i,j]=binRandom[i][j].mean()\n",
    "        binVar[i,j]=np.var(binRandom[i][j])\n",
    "print(\"Выборочные средние значения:\\n\", binAver)\n",
    "print(\"Математическое ожидание: np =\",10*0.5,'\\n')\n",
    "print(\"Выборочные дисперсии\\n\",binVar)\n",
    "print(\"Дисперсия: np(p-1) =\",10*0.5*0.5) "
   ]
  },
  {
   "cell_type": "markdown",
   "metadata": {},
   "source": [
    "#### 3.1.3.2 Нормальное распределение $N(2,4)$"
   ]
  },
  {
   "cell_type": "code",
   "execution_count": 18,
   "metadata": {
    "scrolled": true
   },
   "outputs": [
    {
     "name": "stdout",
     "output_type": "stream",
     "text": [
      "Выборочные средние значения:\n",
      " [[1.109 1.191 2.558 0.459 1.244]\n",
      " [2.567 1.826 2.062 2.104 1.744]\n",
      " [2.262 1.796 2.12  1.979 1.93 ]\n",
      " [1.925 1.963 2.114 2.067 2.118]\n",
      " [1.995 2.001 2.002 1.996 2.005]]\n",
      "Математическое ожидание: μ = 2 \n",
      "\n",
      "Выборочные дисперсии\n",
      " [[ 2.376 10.727  2.826  3.958  1.281]\n",
      " [ 2.519  2.83   7.546  1.415  4.579]\n",
      " [ 3.911  3.871  3.479  4.664  4.035]\n",
      " [ 3.743  4.118  4.051  4.057  4.058]\n",
      " [ 3.99   4.036  4.016  4.005  4.034]]\n",
      "Дисперсия: σ² = 4\n"
     ]
    }
   ],
   "source": [
    "normAver = np.zeros((5,5))\n",
    "normVar = np.zeros((5,5))\n",
    "for i in range(5):\n",
    "    for j in range(5):\n",
    "        normAver[i,j]=normRandom[i][j].mean()\n",
    "        normVar[i,j]=np.var(normRandom[i][j])\n",
    "print(\"Выборочные средние значения:\\n\", normAver)\n",
    "print(\"Математическое ожидание: μ =\",2,'\\n')\n",
    "print(\"Выборочные дисперсии\\n\", normVar)\n",
    "print(\"Дисперсия: σ² =\",2**2) "
   ]
  },
  {
   "cell_type": "markdown",
   "metadata": {},
   "source": [
    "Точность выборочных параметров зависит от объема выборки, чем больше объем выборки, тем точнее оценка, что собственно и наблюдается на примерах"
   ]
  },
  {
   "cell_type": "markdown",
   "metadata": {},
   "source": [
    "## 3.2 Нахождение параметров распределений событий"
   ]
  },
  {
   "cell_type": "markdown",
   "metadata": {},
   "source": [
    "### 3.2.1 Нахождение оценки максимального правдоподобия"
   ]
  },
  {
   "cell_type": "markdown",
   "metadata": {},
   "source": [
    "#### 3.2.1.1 Биномиальное распределение"
   ]
  },
  {
   "cell_type": "markdown",
   "metadata": {},
   "source": [
    "Найдем оценку параметра p\n",
    "\n",
    "$$\n",
    "P_{\\theta}(\\xi=x) = \\frac{m !}{(m-x !) x !} \\theta^{x}(1-\\theta)^{m-x}\n",
    "\\\\L_{\\theta}(X) =\\prod_{i=1}^{n} P_{\\theta}\\left(\\xi=X_{i}\\right)\n",
    "\\\\ \\ln L_{\\theta}(X) =\\sum_{i=1}^{n} \\ln P_{\\theta}\\left(\\xi=X_{i}\\right)=\n",
    " \\sum_{i=1}^{n}\\left(\\ln \\frac{m !}{X_i! \\cdot(m-X_i) !}+\\ln \\theta^{X_{i}}+\\ln (1-\\theta)^{m-X_i}\\right)\n",
    "\\\\ \\frac{\\partial \\ln L_{\\theta}(X)}{\\partial \\theta} =\\sum_{i=1}^{n}( \\frac{X_i}{\\theta}-\\frac{m-X_i}{1-\\theta})\n",
    "\\\\ \\sum_{i=1}^{n}( \\frac{X_i}{\\theta}-\\frac{m-X_i}{1-\\theta}) = 0\n",
    "\\\\\\sum_{i=1}^{n} \\frac{X_i - \\theta X_i - m\\theta + \\theta X_i}{\\theta-\\theta^2}=0\n",
    "\\\\ \\hat\\theta = \\frac{\\sum_{i=1}^{n} X_i }{mn} \n",
    "$$\n",
    "\n"
   ]
  },
  {
   "cell_type": "code",
   "execution_count": 28,
   "metadata": {},
   "outputs": [
    {
     "name": "stdout",
     "output_type": "stream",
     "text": [
      "Оценка параметра p\n",
      " [[0.52  0.46  0.56  0.66  0.52 ]\n",
      " [0.52  0.41  0.45  0.44  0.44 ]\n",
      " [0.494 0.504 0.508 0.537 0.516]\n",
      " [0.503 0.501 0.5   0.498 0.503]\n",
      " [0.5   0.5   0.5   0.5   0.5  ]]\n",
      "Параметр p = 0.5\n"
     ]
    }
   ],
   "source": [
    "print(\"Оценка параметра p\\n\", binAver/10)\n",
    "print(\"Параметр p = 0.5\")"
   ]
  },
  {
   "cell_type": "markdown",
   "metadata": {},
   "source": [
    "#### 3.2.1.2 Нормальное распределение"
   ]
  },
  {
   "cell_type": "markdown",
   "metadata": {},
   "source": [
    "Найдем оценку параметра $\\mu$\n",
    "\n",
    "$$\n",
    "f_\\theta(x)=\\frac{1}{\\sigma \\sqrt{2 \\pi}} e^{-\\frac{(x-\\theta)^{2}}{2 \\sigma^{2}}}\n",
    "\\\\L_{\\theta}(X) =\\prod_{i=1}^{n} f_\\theta(X_i)\n",
    "\\\\ \\ln L_{\\theta}(X) =\\sum_{i=1}^{n}\\ln f_\\theta(X_i)=\n",
    "\\sum_{i=1}^{n}(-\\ln(\\sigma \\sqrt{2 \\pi}) -\\frac{(X_i-\\theta)^{2}}{2 \\sigma^{2}}\\ln {e}) \n",
    "\\\\ \\frac{\\partial \\ln L_{\\theta}(X)}{\\partial \\theta} =\\sum_{i=1}^{n}\\frac{2(X_i-\\theta)}{2 \\sigma^{2}}\n",
    "\\\\ \\sum_{i=1}^{n}\\frac{(X_i-\\theta)}{\\sigma^{2}} = 0\n",
    "\\\\ \\hat{\\theta} = \\frac{\\sum_{i=1}^{n} X_i}{n} \n",
    "$$\n"
   ]
  },
  {
   "cell_type": "code",
   "execution_count": 26,
   "metadata": {
    "scrolled": true
   },
   "outputs": [
    {
     "name": "stdout",
     "output_type": "stream",
     "text": [
      "Оценка параметра μ\n",
      " [[1.109 1.191 2.558 0.459 1.244]\n",
      " [2.567 1.826 2.062 2.104 1.744]\n",
      " [2.262 1.796 2.12  1.979 1.93 ]\n",
      " [1.925 1.963 2.114 2.067 2.118]\n",
      " [1.995 2.001 2.002 1.996 2.005]]\n",
      "Параметр μ = 2\n"
     ]
    }
   ],
   "source": [
    "print(\"Оценка параметра μ\\n\", normAver)\n",
    "print(\"Параметр μ = 2\")"
   ]
  },
  {
   "cell_type": "markdown",
   "metadata": {},
   "source": [
    "Точность оценки зависит от объема выборки, чем больше объем выборки, тем точнее оценка, аналогично результатам из первого пункта"
   ]
  },
  {
   "cell_type": "markdown",
   "metadata": {},
   "source": [
    "### 3.2.2 Несмещенная оценка"
   ]
  },
  {
   "cell_type": "markdown",
   "metadata": {},
   "source": [
    "Несмещённая оценка — это точечная оценка, математическое ожидание которой равно оцениваемому параметру.\n",
    "$${E}(\\hat  {\\theta })=\\theta $$"
   ]
  },
  {
   "cell_type": "markdown",
   "metadata": {},
   "source": [
    "#### 3.2.2.1 Биномиальное распределение"
   ]
  },
  {
   "cell_type": "markdown",
   "metadata": {},
   "source": [
    "$$\n",
    "{E}(\\hat  {\\theta })= E(\\frac{\\sum_{i=1}^{n} X_i }{nm}) = \\frac{\\sum_{i=1}^{n} E(X_i) }{nm} = \\frac{\\sum_{i=1}^{n} m\\theta }{nm} = \\theta\n",
    "$$\n",
    "Предложенная оценка является несмещенной"
   ]
  },
  {
   "cell_type": "markdown",
   "metadata": {},
   "source": [
    "#### 3.2.2.2 Нормальное распределение"
   ]
  },
  {
   "cell_type": "markdown",
   "metadata": {},
   "source": [
    "$$\n",
    "{E}(\\hat  {\\theta })= E(\\frac{\\sum_{i=1}^{n} X_i }{n}) = \\frac{\\sum_{i=1}^{n} E(X_i) }{n} = \\frac{\\sum_{i=1}^{n} \\theta }{n} = \\theta\n",
    "$$\n",
    "Предложенная оценка является несмещенной"
   ]
  },
  {
   "cell_type": "markdown",
   "metadata": {},
   "source": [
    "### 3.2.3 Состоятельная оценка"
   ]
  },
  {
   "cell_type": "markdown",
   "metadata": {},
   "source": [
    "Состоятельная оценка — это точечная оценка, сходящаяся по вероятности к оцениваемому параметру.\n",
    "$$\n",
    "{\\hat  {\\theta }}\\to \\theta,\\quad n\\to \\infty\\\\\n",
    "\\forall \\varepsilon > 0,\\; \\lim\\limits_{n \\to \\infty} \\mathbb{P}(|\\hat  {\\theta } - \\theta| > \\varepsilon) = 0\n",
    "$$\n",
    "$\\hat\\theta(X)$ явлется состоятельной оценкой, если:\n",
    "   - $\\hat\\theta(X)$ — несмещенная оценка\n",
    "   - $\\lim\\limits_{n \\to \\infty} \\mathbb{D}\\hat\\theta=0$\n"
   ]
  },
  {
   "cell_type": "markdown",
   "metadata": {},
   "source": [
    "#### 3.2.3.1 Биномиальное распределение"
   ]
  },
  {
   "cell_type": "markdown",
   "metadata": {},
   "source": [
    "$\\hat\\theta(X)$ — несмещенная оценка\n",
    "\n",
    "$$\n",
    "\\lim\\limits_{n \\to \\infty} \\mathbb{D}(\\frac{\\sum_{i=1}^{n} X_i }{nm}) = \\lim\\limits_{n \\to \\infty} \\frac{\\sum_{i=1}^{n} \\mathbb{D} (X_i) }{(nm)^2} = \\lim\\limits_{n \\to \\infty} \\frac{\\sum_{i=1}^{n} m\\theta(1-\\theta) }{(nm)^2} =\n",
    "\\lim\\limits_{n \\to \\infty} \\frac{ \\theta(1-\\theta) }{nm} = 0\n",
    "$$\n",
    "\n",
    "Предложенная оценка является состоятельной"
   ]
  },
  {
   "cell_type": "markdown",
   "metadata": {},
   "source": [
    "#### 3.2.3.2 Нормальное распределение"
   ]
  },
  {
   "cell_type": "markdown",
   "metadata": {},
   "source": [
    "$\\hat\\theta(X)$ — несмещенная оценка\n",
    "\n",
    "$$\n",
    "\\lim\\limits_{n \\to \\infty} \\mathbb{D}(\\frac{\\sum_{i=1}^{n} X_i }{n}) = \\lim\\limits_{n \\to \\infty} \\frac{\\sum_{i=1}^{n} \\mathbb{D} (X_i) }{n^2} = \\lim\\limits_{n \\to \\infty} \\frac{\\sum_{i=1}^{n} \\sigma^2 }{n^2} =\n",
    "\\lim\\limits_{n \\to \\infty} \\frac{ \\sigma^2}{n} = 0\n",
    "$$\n",
    "\n",
    "Предложенная оценка является состоятельной"
   ]
  },
  {
   "cell_type": "markdown",
   "metadata": {},
   "source": [
    "### 3.2.4 Эффективаня оценка"
   ]
  },
  {
   "cell_type": "markdown",
   "metadata": {},
   "source": [
    "$\\hat\\theta(X)$ явлется эффективной оценкой, если существует такая функция $a_n$, что \n",
    "$$\n",
    "\\hat\\theta(X) - \\theta = a_n(\\theta)\\frac{\\partial \\ln L_{\\theta}(X)}{\\partial \\theta}  .\n",
    "$$"
   ]
  },
  {
   "cell_type": "markdown",
   "metadata": {},
   "source": [
    "#### 3.2.4.1 Биномиальное распределение"
   ]
  },
  {
   "cell_type": "markdown",
   "metadata": {},
   "source": [
    "$$\n",
    "\\frac{\\sum_{i=1}^{n} X_i }{mn} - \\theta = a_n(\\theta)\\sum_{i=1}^{n} \\frac{X_i - m\\theta }{\\theta-\\theta^2}\\\\\n",
    "\\frac{\\sum_{i=1}^{n} X_i }{mn} - \\theta = a_n(\\theta) \\frac{\\sum_{i=1}^{n}X_i - nm\\theta }{n(\\theta-\\theta^2)}\\\\\n",
    "\\frac{1 }{mn} = a_n(\\theta) \\frac{1}{n(\\theta-\\theta^2)}\\\\\n",
    "a_n(\\theta)= \\frac{m}{\\theta-\\theta^2} \n",
    "$$\n",
    "\n",
    "Функция существует, следовательно, предложенная оценка является эффективной и оптимальной"
   ]
  },
  {
   "cell_type": "markdown",
   "metadata": {},
   "source": [
    "#### 3.2.4.2 Нормальное распределение"
   ]
  },
  {
   "cell_type": "markdown",
   "metadata": {},
   "source": [
    "$$\n",
    "\\frac{\\sum_{i=1}^{n} X_i }{n} - \\theta = a_n(\\theta)\\sum_{i=1}^{n} \\frac{X_i - \\theta }{\\sigma^2}\\\\\n",
    "\\frac{\\sum_{i=1}^{n} X_i - n\\theta}{n}  = a_n(\\theta) \\frac{\\sum_{i=1}^{n}X_i - n\\theta }{n\\sigma^2}\\\\\n",
    "a_n(\\theta)= \\sigma^2\n",
    "$$\n",
    "\n",
    "Функция существует, следовательно, предложенная оценка является эффективной и оптимальной"
   ]
  }
 ],
 "metadata": {
  "kernelspec": {
   "display_name": "Python 3",
   "language": "python",
   "name": "python3"
  },
  "language_info": {
   "codemirror_mode": {
    "name": "ipython",
    "version": 3
   },
   "file_extension": ".py",
   "mimetype": "text/x-python",
   "name": "python",
   "nbconvert_exporter": "python",
   "pygments_lexer": "ipython3",
   "version": "3.7.3"
  }
 },
 "nbformat": 4,
 "nbformat_minor": 2
}
